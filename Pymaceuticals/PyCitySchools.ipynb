{
 "cells": [
  {
   "cell_type": "code",
   "execution_count": 1,
   "metadata": {},
   "outputs": [],
   "source": [
    "# Dependencies and Setup\n",
    "import pandas as pd"
   ]
  },
  {
   "cell_type": "code",
   "execution_count": 2,
   "metadata": {},
   "outputs": [
    {
     "ename": "FileNotFoundError",
     "evalue": "[Errno 2] No such file or directory: 'Resources/schools_complete.csv'",
     "output_type": "error",
     "traceback": [
      "\u001b[1;31m---------------------------------------------------------------------------\u001b[0m",
      "\u001b[1;31mFileNotFoundError\u001b[0m                         Traceback (most recent call last)",
      "\u001b[1;32m~\\AppData\\Local\\Temp/ipykernel_12364/4194301789.py\u001b[0m in \u001b[0;36m<module>\u001b[1;34m\u001b[0m\n\u001b[0;32m      4\u001b[0m \u001b[1;33m\u001b[0m\u001b[0m\n\u001b[0;32m      5\u001b[0m \u001b[1;31m# Read School and Student Data File and store into Pandas DataFrames\u001b[0m\u001b[1;33m\u001b[0m\u001b[1;33m\u001b[0m\u001b[1;33m\u001b[0m\u001b[0m\n\u001b[1;32m----> 6\u001b[1;33m \u001b[0mschool_data\u001b[0m \u001b[1;33m=\u001b[0m \u001b[0mpd\u001b[0m\u001b[1;33m.\u001b[0m\u001b[0mread_csv\u001b[0m\u001b[1;33m(\u001b[0m\u001b[0mschool_data_to_load\u001b[0m\u001b[1;33m)\u001b[0m\u001b[1;33m\u001b[0m\u001b[1;33m\u001b[0m\u001b[0m\n\u001b[0m\u001b[0;32m      7\u001b[0m \u001b[0mstudent_data\u001b[0m \u001b[1;33m=\u001b[0m \u001b[0mpd\u001b[0m\u001b[1;33m.\u001b[0m\u001b[0mread_csv\u001b[0m\u001b[1;33m(\u001b[0m\u001b[0mstudent_data_to_load\u001b[0m\u001b[1;33m)\u001b[0m\u001b[1;33m\u001b[0m\u001b[1;33m\u001b[0m\u001b[0m\n\u001b[0;32m      8\u001b[0m \u001b[1;33m\u001b[0m\u001b[0m\n",
      "\u001b[1;32m~\\anaconda3\\envs\\PythonData38\\lib\\site-packages\\pandas\\util\\_decorators.py\u001b[0m in \u001b[0;36mwrapper\u001b[1;34m(*args, **kwargs)\u001b[0m\n\u001b[0;32m    309\u001b[0m                     \u001b[0mstacklevel\u001b[0m\u001b[1;33m=\u001b[0m\u001b[0mstacklevel\u001b[0m\u001b[1;33m,\u001b[0m\u001b[1;33m\u001b[0m\u001b[1;33m\u001b[0m\u001b[0m\n\u001b[0;32m    310\u001b[0m                 )\n\u001b[1;32m--> 311\u001b[1;33m             \u001b[1;32mreturn\u001b[0m \u001b[0mfunc\u001b[0m\u001b[1;33m(\u001b[0m\u001b[1;33m*\u001b[0m\u001b[0margs\u001b[0m\u001b[1;33m,\u001b[0m \u001b[1;33m**\u001b[0m\u001b[0mkwargs\u001b[0m\u001b[1;33m)\u001b[0m\u001b[1;33m\u001b[0m\u001b[1;33m\u001b[0m\u001b[0m\n\u001b[0m\u001b[0;32m    312\u001b[0m \u001b[1;33m\u001b[0m\u001b[0m\n\u001b[0;32m    313\u001b[0m         \u001b[1;32mreturn\u001b[0m \u001b[0mwrapper\u001b[0m\u001b[1;33m\u001b[0m\u001b[1;33m\u001b[0m\u001b[0m\n",
      "\u001b[1;32m~\\anaconda3\\envs\\PythonData38\\lib\\site-packages\\pandas\\io\\parsers\\readers.py\u001b[0m in \u001b[0;36mread_csv\u001b[1;34m(filepath_or_buffer, sep, delimiter, header, names, index_col, usecols, squeeze, prefix, mangle_dupe_cols, dtype, engine, converters, true_values, false_values, skipinitialspace, skiprows, skipfooter, nrows, na_values, keep_default_na, na_filter, verbose, skip_blank_lines, parse_dates, infer_datetime_format, keep_date_col, date_parser, dayfirst, cache_dates, iterator, chunksize, compression, thousands, decimal, lineterminator, quotechar, quoting, doublequote, escapechar, comment, encoding, encoding_errors, dialect, error_bad_lines, warn_bad_lines, on_bad_lines, delim_whitespace, low_memory, memory_map, float_precision, storage_options)\u001b[0m\n\u001b[0;32m    584\u001b[0m     \u001b[0mkwds\u001b[0m\u001b[1;33m.\u001b[0m\u001b[0mupdate\u001b[0m\u001b[1;33m(\u001b[0m\u001b[0mkwds_defaults\u001b[0m\u001b[1;33m)\u001b[0m\u001b[1;33m\u001b[0m\u001b[1;33m\u001b[0m\u001b[0m\n\u001b[0;32m    585\u001b[0m \u001b[1;33m\u001b[0m\u001b[0m\n\u001b[1;32m--> 586\u001b[1;33m     \u001b[1;32mreturn\u001b[0m \u001b[0m_read\u001b[0m\u001b[1;33m(\u001b[0m\u001b[0mfilepath_or_buffer\u001b[0m\u001b[1;33m,\u001b[0m \u001b[0mkwds\u001b[0m\u001b[1;33m)\u001b[0m\u001b[1;33m\u001b[0m\u001b[1;33m\u001b[0m\u001b[0m\n\u001b[0m\u001b[0;32m    587\u001b[0m \u001b[1;33m\u001b[0m\u001b[0m\n\u001b[0;32m    588\u001b[0m \u001b[1;33m\u001b[0m\u001b[0m\n",
      "\u001b[1;32m~\\anaconda3\\envs\\PythonData38\\lib\\site-packages\\pandas\\io\\parsers\\readers.py\u001b[0m in \u001b[0;36m_read\u001b[1;34m(filepath_or_buffer, kwds)\u001b[0m\n\u001b[0;32m    480\u001b[0m \u001b[1;33m\u001b[0m\u001b[0m\n\u001b[0;32m    481\u001b[0m     \u001b[1;31m# Create the parser.\u001b[0m\u001b[1;33m\u001b[0m\u001b[1;33m\u001b[0m\u001b[1;33m\u001b[0m\u001b[0m\n\u001b[1;32m--> 482\u001b[1;33m     \u001b[0mparser\u001b[0m \u001b[1;33m=\u001b[0m \u001b[0mTextFileReader\u001b[0m\u001b[1;33m(\u001b[0m\u001b[0mfilepath_or_buffer\u001b[0m\u001b[1;33m,\u001b[0m \u001b[1;33m**\u001b[0m\u001b[0mkwds\u001b[0m\u001b[1;33m)\u001b[0m\u001b[1;33m\u001b[0m\u001b[1;33m\u001b[0m\u001b[0m\n\u001b[0m\u001b[0;32m    483\u001b[0m \u001b[1;33m\u001b[0m\u001b[0m\n\u001b[0;32m    484\u001b[0m     \u001b[1;32mif\u001b[0m \u001b[0mchunksize\u001b[0m \u001b[1;32mor\u001b[0m \u001b[0miterator\u001b[0m\u001b[1;33m:\u001b[0m\u001b[1;33m\u001b[0m\u001b[1;33m\u001b[0m\u001b[0m\n",
      "\u001b[1;32m~\\anaconda3\\envs\\PythonData38\\lib\\site-packages\\pandas\\io\\parsers\\readers.py\u001b[0m in \u001b[0;36m__init__\u001b[1;34m(self, f, engine, **kwds)\u001b[0m\n\u001b[0;32m    809\u001b[0m             \u001b[0mself\u001b[0m\u001b[1;33m.\u001b[0m\u001b[0moptions\u001b[0m\u001b[1;33m[\u001b[0m\u001b[1;34m\"has_index_names\"\u001b[0m\u001b[1;33m]\u001b[0m \u001b[1;33m=\u001b[0m \u001b[0mkwds\u001b[0m\u001b[1;33m[\u001b[0m\u001b[1;34m\"has_index_names\"\u001b[0m\u001b[1;33m]\u001b[0m\u001b[1;33m\u001b[0m\u001b[1;33m\u001b[0m\u001b[0m\n\u001b[0;32m    810\u001b[0m \u001b[1;33m\u001b[0m\u001b[0m\n\u001b[1;32m--> 811\u001b[1;33m         \u001b[0mself\u001b[0m\u001b[1;33m.\u001b[0m\u001b[0m_engine\u001b[0m \u001b[1;33m=\u001b[0m \u001b[0mself\u001b[0m\u001b[1;33m.\u001b[0m\u001b[0m_make_engine\u001b[0m\u001b[1;33m(\u001b[0m\u001b[0mself\u001b[0m\u001b[1;33m.\u001b[0m\u001b[0mengine\u001b[0m\u001b[1;33m)\u001b[0m\u001b[1;33m\u001b[0m\u001b[1;33m\u001b[0m\u001b[0m\n\u001b[0m\u001b[0;32m    812\u001b[0m \u001b[1;33m\u001b[0m\u001b[0m\n\u001b[0;32m    813\u001b[0m     \u001b[1;32mdef\u001b[0m \u001b[0mclose\u001b[0m\u001b[1;33m(\u001b[0m\u001b[0mself\u001b[0m\u001b[1;33m)\u001b[0m\u001b[1;33m:\u001b[0m\u001b[1;33m\u001b[0m\u001b[1;33m\u001b[0m\u001b[0m\n",
      "\u001b[1;32m~\\anaconda3\\envs\\PythonData38\\lib\\site-packages\\pandas\\io\\parsers\\readers.py\u001b[0m in \u001b[0;36m_make_engine\u001b[1;34m(self, engine)\u001b[0m\n\u001b[0;32m   1038\u001b[0m             )\n\u001b[0;32m   1039\u001b[0m         \u001b[1;31m# error: Too many arguments for \"ParserBase\"\u001b[0m\u001b[1;33m\u001b[0m\u001b[1;33m\u001b[0m\u001b[1;33m\u001b[0m\u001b[0m\n\u001b[1;32m-> 1040\u001b[1;33m         \u001b[1;32mreturn\u001b[0m \u001b[0mmapping\u001b[0m\u001b[1;33m[\u001b[0m\u001b[0mengine\u001b[0m\u001b[1;33m]\u001b[0m\u001b[1;33m(\u001b[0m\u001b[0mself\u001b[0m\u001b[1;33m.\u001b[0m\u001b[0mf\u001b[0m\u001b[1;33m,\u001b[0m \u001b[1;33m**\u001b[0m\u001b[0mself\u001b[0m\u001b[1;33m.\u001b[0m\u001b[0moptions\u001b[0m\u001b[1;33m)\u001b[0m  \u001b[1;31m# type: ignore[call-arg]\u001b[0m\u001b[1;33m\u001b[0m\u001b[1;33m\u001b[0m\u001b[0m\n\u001b[0m\u001b[0;32m   1041\u001b[0m \u001b[1;33m\u001b[0m\u001b[0m\n\u001b[0;32m   1042\u001b[0m     \u001b[1;32mdef\u001b[0m \u001b[0m_failover_to_python\u001b[0m\u001b[1;33m(\u001b[0m\u001b[0mself\u001b[0m\u001b[1;33m)\u001b[0m\u001b[1;33m:\u001b[0m\u001b[1;33m\u001b[0m\u001b[1;33m\u001b[0m\u001b[0m\n",
      "\u001b[1;32m~\\anaconda3\\envs\\PythonData38\\lib\\site-packages\\pandas\\io\\parsers\\c_parser_wrapper.py\u001b[0m in \u001b[0;36m__init__\u001b[1;34m(self, src, **kwds)\u001b[0m\n\u001b[0;32m     49\u001b[0m \u001b[1;33m\u001b[0m\u001b[0m\n\u001b[0;32m     50\u001b[0m         \u001b[1;31m# open handles\u001b[0m\u001b[1;33m\u001b[0m\u001b[1;33m\u001b[0m\u001b[1;33m\u001b[0m\u001b[0m\n\u001b[1;32m---> 51\u001b[1;33m         \u001b[0mself\u001b[0m\u001b[1;33m.\u001b[0m\u001b[0m_open_handles\u001b[0m\u001b[1;33m(\u001b[0m\u001b[0msrc\u001b[0m\u001b[1;33m,\u001b[0m \u001b[0mkwds\u001b[0m\u001b[1;33m)\u001b[0m\u001b[1;33m\u001b[0m\u001b[1;33m\u001b[0m\u001b[0m\n\u001b[0m\u001b[0;32m     52\u001b[0m         \u001b[1;32massert\u001b[0m \u001b[0mself\u001b[0m\u001b[1;33m.\u001b[0m\u001b[0mhandles\u001b[0m \u001b[1;32mis\u001b[0m \u001b[1;32mnot\u001b[0m \u001b[1;32mNone\u001b[0m\u001b[1;33m\u001b[0m\u001b[1;33m\u001b[0m\u001b[0m\n\u001b[0;32m     53\u001b[0m \u001b[1;33m\u001b[0m\u001b[0m\n",
      "\u001b[1;32m~\\anaconda3\\envs\\PythonData38\\lib\\site-packages\\pandas\\io\\parsers\\base_parser.py\u001b[0m in \u001b[0;36m_open_handles\u001b[1;34m(self, src, kwds)\u001b[0m\n\u001b[0;32m    220\u001b[0m         \u001b[0mLet\u001b[0m \u001b[0mthe\u001b[0m \u001b[0mreaders\u001b[0m \u001b[0mopen\u001b[0m \u001b[0mIOHandles\u001b[0m \u001b[0mafter\u001b[0m \u001b[0mthey\u001b[0m \u001b[0mare\u001b[0m \u001b[0mdone\u001b[0m \u001b[1;32mwith\u001b[0m \u001b[0mtheir\u001b[0m \u001b[0mpotential\u001b[0m \u001b[0mraises\u001b[0m\u001b[1;33m.\u001b[0m\u001b[1;33m\u001b[0m\u001b[1;33m\u001b[0m\u001b[0m\n\u001b[0;32m    221\u001b[0m         \"\"\"\n\u001b[1;32m--> 222\u001b[1;33m         self.handles = get_handle(\n\u001b[0m\u001b[0;32m    223\u001b[0m             \u001b[0msrc\u001b[0m\u001b[1;33m,\u001b[0m\u001b[1;33m\u001b[0m\u001b[1;33m\u001b[0m\u001b[0m\n\u001b[0;32m    224\u001b[0m             \u001b[1;34m\"r\"\u001b[0m\u001b[1;33m,\u001b[0m\u001b[1;33m\u001b[0m\u001b[1;33m\u001b[0m\u001b[0m\n",
      "\u001b[1;32m~\\anaconda3\\envs\\PythonData38\\lib\\site-packages\\pandas\\io\\common.py\u001b[0m in \u001b[0;36mget_handle\u001b[1;34m(path_or_buf, mode, encoding, compression, memory_map, is_text, errors, storage_options)\u001b[0m\n\u001b[0;32m    700\u001b[0m         \u001b[1;32mif\u001b[0m \u001b[0mioargs\u001b[0m\u001b[1;33m.\u001b[0m\u001b[0mencoding\u001b[0m \u001b[1;32mand\u001b[0m \u001b[1;34m\"b\"\u001b[0m \u001b[1;32mnot\u001b[0m \u001b[1;32min\u001b[0m \u001b[0mioargs\u001b[0m\u001b[1;33m.\u001b[0m\u001b[0mmode\u001b[0m\u001b[1;33m:\u001b[0m\u001b[1;33m\u001b[0m\u001b[1;33m\u001b[0m\u001b[0m\n\u001b[0;32m    701\u001b[0m             \u001b[1;31m# Encoding\u001b[0m\u001b[1;33m\u001b[0m\u001b[1;33m\u001b[0m\u001b[1;33m\u001b[0m\u001b[0m\n\u001b[1;32m--> 702\u001b[1;33m             handle = open(\n\u001b[0m\u001b[0;32m    703\u001b[0m                 \u001b[0mhandle\u001b[0m\u001b[1;33m,\u001b[0m\u001b[1;33m\u001b[0m\u001b[1;33m\u001b[0m\u001b[0m\n\u001b[0;32m    704\u001b[0m                 \u001b[0mioargs\u001b[0m\u001b[1;33m.\u001b[0m\u001b[0mmode\u001b[0m\u001b[1;33m,\u001b[0m\u001b[1;33m\u001b[0m\u001b[1;33m\u001b[0m\u001b[0m\n",
      "\u001b[1;31mFileNotFoundError\u001b[0m: [Errno 2] No such file or directory: 'Resources/schools_complete.csv'"
     ]
    }
   ],
   "source": [
    "# File to Load (Remember to Change These)\n",
    "school_data_to_load = \"Resources/schools_complete.csv\"\n",
    "student_data_to_load = \"Resources/students_complete.csv\"\n",
    "\n",
    "# Read School and Student Data File and store into Pandas DataFrames\n",
    "school_data = pd.read_csv(school_data_to_load)\n",
    "student_data = pd.read_csv(student_data_to_load)\n",
    "\n",
    "# Combine the data into a single dataset.  \n",
    "complete_data = pd.merge(student_data, school_data, how=\"outer\", on=[\"school_name\", \"school_name\"])"
   ]
  },
  {
   "cell_type": "markdown",
   "metadata": {},
   "source": [
    "## Distric Summary"
   ]
  },
  {
   "cell_type": "code",
   "execution_count": null,
   "metadata": {},
   "outputs": [],
   "source": [
    "# create dataframe for summary analysis\n",
    "dist_summary = pd.DataFrame()\n",
    "\n",
    "# calculate the total number of schools\n",
    "total_schools = len(set(complete_data.loc[:,\"school_name\"]))\n",
    "dist_summary[\"Total Schools\"] = [total_schools]\n",
    "\n",
    "# calculate the total number of students\n",
    "total_students = len(complete_data.loc[:,\"student_name\"])\n",
    "formated_total_students = \"{:,}\".format(total_students)\n",
    "dist_summary[\"Total Students\"] = [formated_total_students]\n",
    "\n",
    "# calculate the total budget\n",
    "total_budget = (\"${:,.2f}\".format(sum(set(complete_data.loc[:,\"budget\"]))))\n",
    "dist_summary[\"Total Budget\"] = [total_budget]\n",
    "\n",
    "# calculate the average math score\n",
    "avg_math = complete_data['math_score'].mean()\n",
    "dist_summary[\"Average Math Score\"] = [avg_math]\n",
    "\n",
    "# calculate the average math score\n",
    "avg_read = complete_data['reading_score'].mean()\n",
    "dist_summary[\"Average Reading Score\"] = [avg_read]\n",
    "\n",
    "# calculate the percentage of students with a passing math score (70 or greater)\n",
    "sorted_data_math = complete_data.loc[(complete_data['math_score'] >= 70)]\n",
    "pass_math = (len(sorted_data_math.loc[:,\"math_score\"]) / total_students)*100\n",
    "dist_summary[\"% Passing Math\"] = [pass_math]\n",
    "\n",
    "# calculate the percentage of students with a passing math score (70 or greater)\n",
    "sorted_data_read = complete_data.loc[(complete_data['reading_score'] >= 70)]\n",
    "pass_read = (len(sorted_data_read.loc[:,\"reading_score\"]) / total_students)*100\n",
    "dist_summary[\"% Passing Reading\"] = [pass_read]\n",
    "\n",
    "# calculate the percentage of students who passed math and reading (% Overall Passing)\n",
    "sorted_math_read = complete_data.loc[(complete_data['math_score'] >= 70) & (complete_data['reading_score'] >= 70)]\n",
    "pass_overall = (len(sorted_math_read.loc[:,\"Student ID\"]) / total_students)*100\n",
    "dist_summary[\"% Overall Passing\"] = [pass_overall]\n",
    "\n",
    "dist_summary.head()\n"
   ]
  },
  {
   "cell_type": "markdown",
   "metadata": {},
   "source": [
    "## School Summary"
   ]
  },
  {
   "cell_type": "code",
   "execution_count": null,
   "metadata": {},
   "outputs": [],
   "source": [
    "# sort on the selected columns\n",
    "sorted_data =  pd.DataFrame(complete_data.loc[:, [\"school_name\", \"type\",\"student_name\",\"budget\",\"math_score\",\"reading_score\"]])\n",
    "\n",
    "# Discrict name per school\n",
    "dist_type =  sorted_data.groupby([\"school_name\"]).max()[\"type\"]\n",
    "\n",
    "# calculate the total number of students per school\n",
    "total_students = sorted_data[\"school_name\"].value_counts()\n",
    "\n",
    "# calculate Total School Budget per school\n",
    "total_budget = sorted_data.groupby([\"school_name\"]).max()[\"budget\"]\n",
    "\n",
    "# calculate Average Math Score per school\n",
    "mean_math = sorted_data.groupby([\"school_name\"]).mean()['math_score']\n",
    "\n",
    "# calculate Average Reading Score per school\n",
    "mean_read = sorted_data.groupby([\"school_name\"]).mean()['reading_score']\n",
    "\n",
    "# calculate Student Budget per school\n",
    "student_budget = total_budget/total_students\n",
    "\n",
    "# calculate the average math score per school\n",
    "pass_math = (sorted_data[sorted_data['math_score'] >= 70].groupby([\"school_name\"]).count()['math_score'])/ \\\n",
    "            total_students *100\n",
    "\n",
    "# calculate the average reading score per school\n",
    "pass_read = (sorted_data[sorted_data['reading_score'] >= 70].groupby([\"school_name\"]).count()['reading_score'])/ \\\n",
    "            total_students *100\n",
    "\n",
    "# calculate the average math score per school\n",
    "pass_overall = sorted_data[(sorted_data['math_score'] >= 70)  & (sorted_data['reading_score'] >= 70)] \\\n",
    "            .groupby([\"school_name\"]).count()['student_name']/total_students *100\n",
    "\n",
    "# create a summary dataframe\n",
    "school_summary = pd.DataFrame({\"School Type\": dist_type,\"Total Students\" : total_students, \n",
    "                                \"Total School Budget\" : total_budget,\"Per Student Budget\" : student_budget,\n",
    "                                \"Average Math Score\" : mean_math, \"Average Reading Score\": mean_read,\n",
    "                                \"% Passing Math\" : pass_math, \"% Passing Reading\": pass_read,\n",
    "                                \"% Overall Passing\": pass_overall})\n",
    "\n",
    "# format the final dataframe for \"total school budget\" and \"per student budget\"\n",
    "school_summary['Total School Budget'] = school_summary['Total School Budget'].map('${:,.2f}'.format)\n",
    "school_summary['Per Student Budget'] = school_summary['Per Student Budget'].map('${:,.2f}'.format)\n",
    "\n",
    "\n",
    "school_summary\n"
   ]
  },
  {
   "cell_type": "markdown",
   "metadata": {},
   "source": [
    "## Top Performing Schools (By % Overall Passing)"
   ]
  },
  {
   "cell_type": "code",
   "execution_count": null,
   "metadata": {},
   "outputs": [],
   "source": [
    "# Sort and display the top five performing schools by % overall passing.\n",
    "top_5 = school_summary.sort_values(by='% Overall Passing', ascending=False)\n",
    "\n",
    "top_5.head(5)"
   ]
  },
  {
   "cell_type": "markdown",
   "metadata": {},
   "source": [
    "## Bottom Performing Schools (By % Overall Passing)"
   ]
  },
  {
   "cell_type": "markdown",
   "metadata": {},
   "source": [
    "* Sort and display the five worst-performing schools by % overall passing."
   ]
  },
  {
   "cell_type": "code",
   "execution_count": null,
   "metadata": {},
   "outputs": [],
   "source": [
    "# Sort and display the top five performing schools by % overall passing.\n",
    "bottom_5 = school_summary.sort_values(by='% Overall Passing', ascending=True)\n",
    "\n",
    "bottom_5.head(5)"
   ]
  },
  {
   "cell_type": "markdown",
   "metadata": {
    "collapsed": true
   },
   "source": [
    "## Math Scores by Grade"
   ]
  },
  {
   "cell_type": "code",
   "execution_count": null,
   "metadata": {},
   "outputs": [],
   "source": [
    "#sort data on relevant columns only\n",
    "sorted_math_data = pd.DataFrame(complete_data.loc[:, [\"school_name\", \"grade\",\"math_score\"]])\n",
    "\n",
    "# calculate average math score for students in the 9th grade\n",
    "mean_9 = sorted_math_data[sorted_math_data['grade'] == \"9th\"].groupby([\"school_name\"]).mean()['math_score']\n",
    "\n",
    "# calculate average math score for students in the 10th grade\n",
    "mean_10 = sorted_math_data[sorted_math_data['grade'] == \"10th\"].groupby([\"school_name\"]).mean()['math_score']\n",
    "\n",
    "# calculate average math score for students in the 11th grade\n",
    "mean_11 = sorted_math_data[sorted_math_data['grade'] == \"11th\"].groupby([\"school_name\"]).mean()['math_score']\n",
    "\n",
    "# calculate average math score for students in the 12th grade\n",
    "mean_12 = sorted_math_data[sorted_math_data['grade'] == \"12th\"].groupby([\"school_name\"]).mean()['math_score']\n",
    "\n",
    "# create a summary dataframe\n",
    "math_by_drade_summary = pd.DataFrame({\"9th\": mean_9,\"10th\": mean_10,\"11th\": mean_11,\"12th\": mean_12,})\n",
    "\n",
    "#rename index colummn\n",
    "math_by_drade_summary.index.names = ['']\n",
    "\n",
    "math_by_drade_summary.head(15)"
   ]
  },
  {
   "cell_type": "markdown",
   "metadata": {},
   "source": [
    "## Reading Score by Grade "
   ]
  },
  {
   "cell_type": "code",
   "execution_count": null,
   "metadata": {},
   "outputs": [],
   "source": [
    "#sort data on relevant columns only\n",
    "sorted_read_data = pd.DataFrame(complete_data.loc[:, [\"school_name\", \"grade\",\"reading_score\"]])\n",
    "\n",
    "# calculate average reading score for students in the 9th grade\n",
    "mean_read_9 = sorted_read_data[sorted_read_data['grade'] == \"9th\"].groupby([\"school_name\"]).mean()['reading_score']\n",
    "\n",
    "# calculate average reading score for students in the 10th grade\n",
    "mean_read_10 = sorted_read_data[sorted_read_data['grade'] == \"10th\"].groupby([\"school_name\"]).mean()['reading_score']\n",
    "\n",
    "# calculate average reading score for students in the 11th grade\n",
    "mean_read_11 = sorted_read_data[sorted_read_data['grade'] == \"11th\"].groupby([\"school_name\"]).mean()['reading_score']\n",
    "\n",
    "# calculate average reading score for students in the 12th grade\n",
    "mean_read_12 = sorted_read_data[sorted_read_data['grade'] == \"12th\"].groupby([\"school_name\"]).mean()['reading_score']\n",
    "\n",
    "# create a summary dataframe\n",
    "read_by_drade_summary = pd.DataFrame({\"9th\": mean_read_9,\"10th\":mean_read_10,\"11th\": mean_read_11,\"12th\": mean_read_12,})\n",
    "\n",
    "#rename index colummn\n",
    "read_by_drade_summary.index.names = ['']\n",
    "\n",
    "read_by_drade_summary.head(15)"
   ]
  },
  {
   "cell_type": "markdown",
   "metadata": {},
   "source": [
    "## Scores by School Spending"
   ]
  },
  {
   "cell_type": "code",
   "execution_count": null,
   "metadata": {},
   "outputs": [],
   "source": [
    "# creating dataframe based on prior calculation, refer to School Summary calculations above\n",
    "scores_by_spending = pd.DataFrame({\"Total Students\" : total_students,\"Per Student Budget\" : student_budget,\n",
    "                                \"Average Math Score\" : mean_math, \"Average Reading Score\": mean_read,\n",
    "                                \"% Passing Math\" : pass_math, \"% Passing Reading\": pass_read,\n",
    "                                \"% Overall Passing\": pass_overall})\n",
    "\n",
    "# converting per student budget column to integer\n",
    "scores_by_spending['Per Student Budget'] = scores_by_spending['Per Student Budget'].astype(int)\n",
    "\n",
    "# spending Ranges (Per Student)\n",
    "bins = [0, 585, 630, 645, 680]\n",
    "\n",
    "# create the names for the 4 bins\n",
    "group_names = [\"<$585\", \"$585-630\", \"$630-645\", \"$645-680\"]\n",
    "\n",
    "# resetting index column to remove school names\n",
    "scores_by_spending = scores_by_spending.reset_index(drop=True)\n",
    "\n",
    "# slice the data and place it into bins\n",
    "scores_by_spending[\"Spending Ranges (Per Student)\"] = pd.cut(scores_by_spending[\"Per Student Budget\"], bins, labels=group_names)\n",
    "\n",
    "# creating a groupby based on spening ranges\n",
    "scores_by_spending = scores_by_spending.groupby(\"Spending Ranges (Per Student)\").mean()\n",
    "\n",
    "# selecting only relevant columns in the dataframe\n",
    "scores_by_spending =  scores_by_spending.loc[:, [\"Average Math Score\", \"Average Reading Score\",\"Average Reading Score\",\n",
    "                                                 \"% Passing Math\",\"% Passing Reading\",\"% Overall Passing\"]]\n",
    "\n",
    "# rounding values to 2 decimal places\n",
    "pd.options.display.float_format = '{:.2f}'.format\n",
    "\n",
    "scores_by_spending.head()\n"
   ]
  },
  {
   "cell_type": "markdown",
   "metadata": {},
   "source": [
    "## Scores by School Size"
   ]
  },
  {
   "cell_type": "code",
   "execution_count": null,
   "metadata": {
    "scrolled": true
   },
   "outputs": [],
   "source": [
    "# creating dataframe based on prior calculation, refer to School Summary calculations above\n",
    "scores_by_size = pd.DataFrame({\"Total Students\" : total_students,\"Average Math Score\" : mean_math, \n",
    "                                \"Average Reading Score\": mean_read,\"% Passing Math\" : pass_math, \n",
    "                                \"% Passing Reading\": pass_read,\"% Overall Passing\": pass_overall})\n",
    "\n",
    "# school size Ranges (Per Student)\n",
    "bins = [0, 1000, 2000, 5000]\n",
    "\n",
    "# create the names for the 4 bins\n",
    "group_names = [\"Small (<1000)\", \"Medium (1000-2000)\", \"Large (2000-5000)\"]\n",
    "\n",
    "# resetting index column to remove school names\n",
    "scores_by_size = scores_by_size.reset_index(drop=True)\n",
    "\n",
    "# slice the data and place it into bins\n",
    "scores_by_size[\"School Size\"] = pd.cut(scores_by_size[\"Total Students\"], bins, labels=group_names)\n",
    "\n",
    "# creating a groupby based on student size ranges\n",
    "scores_by_size = scores_by_size.groupby(\"School Size\").mean()\n",
    "\n",
    "# selecting only relevant columns in the dataframe\n",
    "scores_by_size =  scores_by_size.loc[:, [\"Average Math Score\", \"Average Reading Score\",\"Average Reading Score\",\n",
    "                                         \"% Passing Math\",\"% Passing Reading\",\"% Overall Passing\"]]\n",
    "\n",
    "# rounding values to 2 decimal places\n",
    "pd.options.display.float_format = '{:.2f}'.format\n",
    "\n",
    "scores_by_size.head()\n"
   ]
  },
  {
   "cell_type": "markdown",
   "metadata": {},
   "source": [
    "## Scores by School Type"
   ]
  },
  {
   "cell_type": "code",
   "execution_count": null,
   "metadata": {},
   "outputs": [],
   "source": [
    "# creating dataframe based on prior calculation, refer to School Summary calculations above\n",
    "scores_by_type = pd.DataFrame({\"School Type\": dist_type,\"Average Math Score\" : mean_math, \n",
    "                                \"Average Reading Score\": mean_read,\"% Passing Math\" : pass_math, \n",
    "                                \"% Passing Reading\": pass_read,\"% Overall Passing\": pass_overall})\n",
    "\n",
    "# resetting index column to remove school names\n",
    "scores_by_type = scores_by_type.reset_index(drop=True)\n",
    "\n",
    "# creating a groupby based on school type\n",
    "scores_by_type = scores_by_type.groupby(\"School Type\").mean()\n",
    "\n",
    "# rounding values to 2 decimal places\n",
    "pd.options.display.float_format = '{:.2f}'.format\n",
    "\n",
    "scores_by_type.head()\n"
   ]
  },
  {
   "cell_type": "markdown",
   "metadata": {},
   "source": [
    "Written report observations:\n",
    "1 - Based on the above calculations it is evident that charter school students have significantly better average math, reading, and overall passing percentages.\n",
    "2 - Students in the schools with the largest number of students tend to underpeform in average reading and math scores compared to the students from shools with smaller students sizes. "
   ]
  }
 ],
 "metadata": {
  "anaconda-cloud": {},
  "kernel_info": {
   "name": "python3"
  },
  "kernelspec": {
   "display_name": "Python [conda env:PythonData38] *",
   "language": "python",
   "name": "conda-env-PythonData38-py"
  },
  "language_info": {
   "codemirror_mode": {
    "name": "ipython",
    "version": 3
   },
   "file_extension": ".py",
   "mimetype": "text/x-python",
   "name": "python",
   "nbconvert_exporter": "python",
   "pygments_lexer": "ipython3",
   "version": "3.8.12"
  },
  "latex_envs": {
   "LaTeX_envs_menu_present": true,
   "autoclose": false,
   "autocomplete": true,
   "bibliofile": "biblio.bib",
   "cite_by": "apalike",
   "current_citInitial": 1,
   "eqLabelWithNumbers": true,
   "eqNumInitial": 1,
   "hotkeys": {
    "equation": "Ctrl-E",
    "itemize": "Ctrl-I"
   },
   "labels_anchors": false,
   "latex_user_defs": false,
   "report_style_numbering": false,
   "user_envs_cfg": false
  },
  "nteract": {
   "version": "0.8.4"
  }
 },
 "nbformat": 4,
 "nbformat_minor": 1
}
